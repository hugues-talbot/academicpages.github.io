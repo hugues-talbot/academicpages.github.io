{
 "cells": [
  {
   "cell_type": "code",
   "execution_count": null,
   "metadata": {
    "tags": [
     "style"
    ]
   },
   "outputs": [],
   "source": [
    "## Styling to center the figures\n",
    "from IPython.core.display import HTML\n",
    "HTML(\"\"\"\n",
    "<style>\n",
    ".output_png {\n",
    "    display: table-cell;\n",
    "    text-align: center;\n",
    "    vertical-align: middle;\n",
    "}\n",
    "</style>\n",
    "\"\"\")"
   ]
  },
  {
   "cell_type": "markdown",
   "metadata": {},
   "source": [
    "# <center>Premier TD de morpho-math</center>\n",
    "\n",
    "Ce TD parle des motions de connectivité en partant de celle de graphe.\n",
    "\n",
    "## Connectivité et graphes\n",
    "\n",
    "Un graphe est un couple $(E,\\Gamma)$ où $E$ est un ensemble fini de points, appellés *sommets* et $\\Gamma$ une application de $E$ vers ${\\cal P}(E)$, la collection des sous-parties de $E$, appellés *arcs*."
   ]
  },
  {
   "cell_type": "markdown",
   "metadata": {},
   "source": [
    "## Début: les environnements nécessaires"
   ]
  },
  {
   "cell_type": "code",
   "execution_count": null,
   "metadata": {},
   "outputs": [],
   "source": [
    "## pour avoir des figures \"en ligne\"\n",
    "%matplotlib inline"
   ]
  },
  {
   "cell_type": "code",
   "execution_count": null,
   "metadata": {},
   "outputs": [],
   "source": [
    "## le minimum syndical\n",
    "import matplotlib.pylab as plt\n",
    "import matplotlib.patches as patches\n",
    "import numpy as np\n",
    "from copy import deepcopy"
   ]
  },
  {
   "cell_type": "markdown",
   "metadata": {},
   "source": [
    "## Une classe de graphe dirigé"
   ]
  },
  {
   "cell_type": "code",
   "execution_count": null,
   "metadata": {},
   "outputs": [],
   "source": [
    "class Digraph(object):\n",
    "    def __init__(self, nodes, arcs, N, M):\n",
    "        self.n = N\n",
    "        self.m = M\n",
    "        self.nodes = deepcopy(nodes)\n",
    "        self.coords = self.nodes[:,0:2]\n",
    "        self.values = self.nodes[:,2]\n",
    "        self.arcs = deepcopy(arcs)\n",
    "        self.radius = 0.02\n",
    "        pass\n",
    "    \n",
    "    def get_n(self):\n",
    "        return self.n\n",
    "    \n",
    "    def get_m(self):\n",
    "        return self.m\n",
    "    \n",
    "    def get_nodes(self):\n",
    "        return self.nodes\n",
    "    \n",
    "    def get_arcs(self):\n",
    "        return self.arcs\n",
    "    \n",
    "    ## comment afficher un sommet\n",
    "    def pdot(self, x,y,col,full=False):\n",
    "        if full:\n",
    "            plt.gcf().gca().add_artist(plt.Circle((x,y),self.radius,ec=col,color=col))\n",
    "        else:\n",
    "            plt.gcf().gca().add_artist(plt.Circle((x,y),self.radius,ec=col,color='white'))\n",
    "\n",
    "    ## comment afficher un arc\n",
    "    def drawArrow(self, A, B):\n",
    "        plt.arrow(A[0], A[1], B[0] - A[0], B[1] - A[1],\n",
    "              head_width=.03, length_includes_head=True)\n",
    "    \n",
    "    ## the patch idea does not work well\n",
    "    #style=\"Simple,tail_width=0.5,head_width=4,head_length=8\"\n",
    "    #kw = dict(arrowstyle=style, color=\"k\")\n",
    "    def selfArrow(self,A):\n",
    "        # a = patches.FancyArrowPatch(A, A,connectionstyle=\"arc3,rad=2\", **kw)\n",
    "        # plt.gcf().gca().add_patch(a)\n",
    "        center = np.array([0.5,0.5])\n",
    "        normgrad = (A-center)/np.linalg.norm(A-center)\n",
    "        B = A+1.2*self.radius*normgrad\n",
    "        plt.gcf().gca().add_artist(plt.Circle((B[0],B[1]),1.2*self.radius,ec='k',color='white'))\n",
    "\n",
    "    def print(self):\n",
    "        ## liste triée par première colonne (i.e. premier élément)\n",
    "        print(\"Matrice d'ajacence:\\n\",self.arcs[self.arcs[:,0].argsort()])\n",
    "\n",
    "    def show(self):\n",
    "        plt.figure(figsize=(8,8))\n",
    "        ax=plt.subplot(aspect='equal')\n",
    "        plt.axis('off')\n",
    "        # plots the arcs first\n",
    "        for j in range(self.m):\n",
    "            AB=tuple(self.arcs[j])\n",
    "            #print(\"Plotting arc between node(%d) and node(%d)\" % AB)\n",
    "            if (AB[0] != AB[1]):\n",
    "                ## draw arrows a little short\n",
    "                grad = self.coords[AB[1]]-self.coords[AB[0]]\n",
    "                normgrad = (grad)/np.linalg.norm(grad)\n",
    "                self.drawArrow(self.coords[AB[0]], self.coords[AB[1]]-self.radius*normgrad)\n",
    "            else:\n",
    "                ## self referencing arrow\n",
    "                self.selfArrow(self.coords[AB[0]])\n",
    "\n",
    "        ## plot the nodes\n",
    "        for i in range(self.n):\n",
    "            self.pdot(self.coords[i,0], self.coords[i,1],'green',full=self.values[i])\n",
    "            plt.figtext(self.coords[i,0], self.coords[i,1],\"%d\"%(i))\n",
    "        \n",
    "        plt.show()"
   ]
  },
  {
   "cell_type": "markdown",
   "metadata": {},
   "source": [
    "## Création d'un graphe aléatoire"
   ]
  },
  {
   "cell_type": "code",
   "execution_count": null,
   "metadata": {},
   "outputs": [],
   "source": [
    "## quelques sommets aléatoires pas trop près du bord\n",
    "def spread(nbpts):\n",
    "    x=np.zeros(nbpts) ; y = np.zeros(nbpts)\n",
    "    for i in range(nbpts):\n",
    "        x[i] = np.cos(2*i*np.pi/nbpts)/2.3 + 0.5\n",
    "        y[i] = np.sin(2*i*np.pi/nbpts)/2.3 + 0.5\n",
    "        \n",
    "    return np.array((x,y)).T\n",
    "\n",
    "\n",
    "def createDigraph(N,M):\n",
    "    coords = spread(N)\n",
    "    values = np.random.randint(2, size=(N,1))\n",
    "    arcs = np.random.randint(N, size=(M, 2)) ## arcs from i to j\n",
    "    return((np.hstack((coords,values)),arcs)) \n"
   ]
  },
  {
   "cell_type": "code",
   "execution_count": null,
   "metadata": {},
   "outputs": [],
   "source": [
    "N=16;M=12\n",
    "(nodes,arcs) = createDigraph(N,M)\n",
    "\n",
    "G=Digraph(nodes,arcs,N,M)\n",
    "G.show()\n",
    "G.print()"
   ]
  },
  {
   "cell_type": "markdown",
   "metadata": {},
   "source": [
    "## Operateurs sur les graphes dirigés"
   ]
  },
  {
   "cell_type": "code",
   "execution_count": null,
   "metadata": {},
   "outputs": [],
   "source": [
    "def dilation(G):\n",
    "    nodes=G.get_nodes()\n",
    "    arcs=G.get_arcs()\n",
    "    newnodes=deepcopy(nodes)\n",
    "    for a in arcs:\n",
    "        ## just the definition\n",
    "        newnodes[a[1],2]=max(newnodes[a[1],2],nodes[a[0],2])\n",
    "    return(Digraph(newnodes,arcs,G.get_n(),G.get_m()))"
   ]
  },
  {
   "cell_type": "code",
   "execution_count": null,
   "metadata": {},
   "outputs": [],
   "source": [
    "Gdil=dilation(G)\n",
    "Gdil.show()"
   ]
  },
  {
   "cell_type": "code",
   "execution_count": null,
   "metadata": {},
   "outputs": [],
   "source": [
    "def nondual_erosion(G):\n",
    "    \"\"\"\n",
    "    This version of the erosion only compute the min instead of the max,\n",
    "    but does not reverse the graph.\n",
    "    \"\"\"\n",
    "    nodes=G.get_nodes()\n",
    "    arcs=G.get_arcs()\n",
    "    newnodes=deepcopy(nodes)\n",
    "    for a in arcs:\n",
    "        ## just the definition\n",
    "        newnodes[a[1],2]=min(newnodes[a[1],2],nodes[a[0],2])\n",
    "    return(Digraph(newnodes,arcs,G.get_n(),G.get_m()))"
   ]
  },
  {
   "cell_type": "markdown",
   "metadata": {},
   "source": [
    "### Cette version de l'érosion est-elle duale de la dilatation ?"
   ]
  },
  {
   "cell_type": "code",
   "execution_count": null,
   "metadata": {},
   "outputs": [],
   "source": [
    "Gnondual_ero = nondual_erosion(G)\n",
    "Gnondual_ero.show()"
   ]
  },
  {
   "cell_type": "code",
   "execution_count": null,
   "metadata": {},
   "outputs": [],
   "source": [
    "Gnotclo=nondual_erosion(dilation(G))\n",
    "Gnotop.show()"
   ]
  },
  {
   "cell_type": "code",
   "execution_count": null,
   "metadata": {},
   "outputs": [],
   "source": [
    "def isGreater(G1,G2,verbose=True):\n",
    "    \"\"\"Check if G1 >= G2, returns a Boolean\"\"\"\n",
    "    retval=True\n",
    "    n1 = G1.get_nodes()\n",
    "    n2 = G2.get_nodes()\n",
    "    for i in range(G1.get_n()):\n",
    "        if (n1[i,2] < n2[i,2]):\n",
    "            if (verbose):\n",
    "                print(\"test non vérifié pour i =\",i)\n",
    "            retval=False\n",
    "            break\n",
    "    return(retval)"
   ]
  },
  {
   "cell_type": "code",
   "execution_count": null,
   "metadata": {},
   "outputs": [],
   "source": [
    "if (isGreater(Gnotclo,G)):\n",
    "    print(\"Extensivité vérifié\")\n",
    "else:\n",
    "    print(\"Extensivité non vérifié \")"
   ]
  },
  {
   "cell_type": "markdown",
   "metadata": {},
   "source": [
    "### Conclusion: l'érosion n'est pas duale. Il faut symétriser le graphe d'abord"
   ]
  },
  {
   "cell_type": "code",
   "execution_count": null,
   "metadata": {},
   "outputs": [],
   "source": [
    "def sym(G):\n",
    "    \"\"\"Returns a new graph, symmetric graph of the input\"\"\"\n",
    "    nodes=G.get_nodes()\n",
    "    arcs=G.get_arcs()\n",
    "    newarcs=deepcopy(arcs)\n",
    "    for m in range(G.get_m()):\n",
    "        newarcs[m] = np.flip(arcs[m],0)\n",
    "    return(Digraph(nodes,newarcs,G.get_n(),G.get_m()))"
   ]
  },
  {
   "cell_type": "code",
   "execution_count": null,
   "metadata": {},
   "outputs": [],
   "source": [
    "G.get_arcs()"
   ]
  },
  {
   "cell_type": "code",
   "execution_count": null,
   "metadata": {},
   "outputs": [],
   "source": [
    "Gsym=sym(G)\n",
    "Gsym.get_arcs()\n",
    "Gsym.show()"
   ]
  },
  {
   "cell_type": "markdown",
   "metadata": {},
   "source": [
    "### Nouvelle version de l'érosion"
   ]
  },
  {
   "cell_type": "code",
   "execution_count": null,
   "metadata": {},
   "outputs": [],
   "source": [
    "def inelegant_erosion(G):\n",
    "    \"\"\"\n",
    "    Erosion of a graph G.\n",
    "    This is the dual of the dilation, i.e \\delta_{\\Gamma^{-1}}^\\star\n",
    "    However, the output graph has the same arcs as the input\n",
    "    \"\"\"\n",
    "    Gsym=sym(G) # we compute the symmetric graph\n",
    "    symarcs=Gsym.get_arcs()\n",
    "    nodes=G.get_nodes() # same as input\n",
    "    newnodes=deepcopy(nodes) # because they are going to change\n",
    "    for a in symarcs: # use the symmetric arcs\n",
    "        ## just the definition\n",
    "        newnodes[a[1],2]=min(newnodes[a[1],2],nodes[a[0],2])\n",
    "    return(Digraph(newnodes,G.get_arcs(),G.get_n(),G.get_m()))"
   ]
  },
  {
   "cell_type": "code",
   "execution_count": null,
   "metadata": {},
   "outputs": [],
   "source": [
    "Gero=inelegant_erosion(G)\n",
    "Gero.show()"
   ]
  },
  {
   "cell_type": "code",
   "execution_count": null,
   "metadata": {},
   "outputs": [],
   "source": [
    "Gclo=inelegant_erosion(dilation(G))\n",
    "Gclo.show()"
   ]
  },
  {
   "cell_type": "code",
   "execution_count": null,
   "metadata": {},
   "outputs": [],
   "source": [
    "if (isGreater(Gclo,G)):\n",
    "    print(\"Extensivité vérifié\")\n",
    "else:\n",
    "    print(\"Extensivité non vérifié \")"
   ]
  },
  {
   "cell_type": "markdown",
   "metadata": {},
   "source": [
    "### Cette fois-ci, l'extensivité est OK.\n",
    "\n",
    "Vérifions pour l'ouverture"
   ]
  },
  {
   "cell_type": "code",
   "execution_count": null,
   "metadata": {},
   "outputs": [],
   "source": [
    "def isSmaller(G1,G2,verbose=True):\n",
    "    \"\"\"Check if G1 <= G2, returns a Boolean\"\"\"\n",
    "    return(isGreater(G2,G1,verbose))"
   ]
  },
  {
   "cell_type": "code",
   "execution_count": null,
   "metadata": {},
   "outputs": [],
   "source": [
    "Gope=dilation(inelegant_erosion(G))\n",
    "Gope.show()\n",
    "if (isSmaller(Gope,G)):\n",
    "    print(\"Anti-extensivité vérifié\")"
   ]
  },
  {
   "cell_type": "markdown",
   "metadata": {},
   "source": [
    "### Une version plus élégante de l'érosion"
   ]
  },
  {
   "cell_type": "code",
   "execution_count": null,
   "metadata": {},
   "outputs": [],
   "source": [
    "def erosion(G):\n",
    "    \"\"\"\n",
    "    Erosion of a graph G.\n",
    "    This is the dual of the dilation, i.e \\delta_{\\Gamma^{-1}}^\\star\n",
    "    However, the output graph has the same arcs as the input\n",
    "    \"\"\"\n",
    "    arcs=G.get_arcs()\n",
    "    nodes=G.get_nodes() # same as input\n",
    "    newnodes=deepcopy(nodes) # because they are going to change\n",
    "    for a in arcs: # use the symmetric arcs\n",
    "        ## just the definition\n",
    "        newnodes[a[0],2]=min(newnodes[a[0],2],nodes[a[1],2]) # we just use the reversed arc\n",
    "    return(Digraph(newnodes,arcs,G.get_n(),G.get_m()))"
   ]
  },
  {
   "cell_type": "code",
   "execution_count": null,
   "metadata": {},
   "outputs": [],
   "source": [
    "Gope2=dilation(erosion(G))\n",
    "Gope2.show()\n",
    "if (isSmaller(Gope2,G)):\n",
    "    print(\"Anti-extensivité vérifié\")"
   ]
  },
  {
   "cell_type": "code",
   "execution_count": null,
   "metadata": {},
   "outputs": [],
   "source": [
    "%run digraph.py"
   ]
  },
  {
   "cell_type": "code",
   "execution_count": null,
   "metadata": {},
   "outputs": [],
   "source": []
  }
 ],
 "metadata": {
  "kernelspec": {
   "display_name": "Python 3",
   "language": "python",
   "name": "python3"
  },
  "language_info": {
   "codemirror_mode": {
    "name": "ipython",
    "version": 3
   },
   "file_extension": ".py",
   "mimetype": "text/x-python",
   "name": "python",
   "nbconvert_exporter": "python",
   "pygments_lexer": "ipython3",
   "version": "3.7.2"
  },
  "latex_envs": {
   "LaTeX_envs_menu_present": true,
   "autoclose": false,
   "autocomplete": true,
   "bibliofile": "biblio.bib",
   "cite_by": "apalike",
   "current_citInitial": 1,
   "eqLabelWithNumbers": true,
   "eqNumInitial": 1,
   "hotkeys": {
    "equation": "Ctrl-E",
    "itemize": "Ctrl-I"
   },
   "labels_anchors": false,
   "latex_user_defs": false,
   "report_style_numbering": false,
   "user_envs_cfg": false
  }
 },
 "nbformat": 4,
 "nbformat_minor": 2
}
