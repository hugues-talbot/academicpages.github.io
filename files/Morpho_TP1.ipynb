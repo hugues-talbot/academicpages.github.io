{
 "cells": [
  {
   "cell_type": "markdown",
   "metadata": {},
   "source": [
    "# <center>TD 2 de morphologie mathématique</center>\n",
    "# <center>revisited</center>\n",
    "## <center>Hugues Talbot 15 mars 2019</center>\n",
    "\n",
    "\n",
    "Quelques indications ont été données sur chacune des questions.\n",
    "Merci de bien vouloir indiquer votre nom et prénom\n",
    "\n",
    "NOM Prénom"
   ]
  },
  {
   "cell_type": "code",
   "execution_count": null,
   "metadata": {},
   "outputs": [],
   "source": [
    "%matplotlib notebook\n",
    "import numpy as np\n",
    "import matplotlib.pyplot as plt\n",
    "\n",
    "\n",
    "## pour afficher une seule image\n",
    "def imview(image, cmap=\"gray\"):\n",
    "    plt.figure(figsize=(4,4))\n",
    "    plt.imshow(image,cmap=cmap)\n",
    "    plt.show()\n",
    "    \n",
    "## pour afficher plusieurs images l'une à côté de l'autre\n",
    "def viewlist(images,cmap=\"gray\"):\n",
    "    plt.figure(figsize=(12,4))\n",
    "    columns = len(images)\n",
    "    for i, image in enumerate(images):\n",
    "        plt.subplot(len(images) / columns + 1, columns, i + 1)\n",
    "        plt.imshow(image,cmap=cmap)\n",
    "    plt.show()"
   ]
  },
  {
   "cell_type": "markdown",
   "metadata": {},
   "source": [
    "## Section 1:  rappels sur Scikit-image\n",
    "\n",
    "[Scikit-image](https://scikit-image.org/) est une bibliothèque de traitement d'image similaire en esprit à celle que nous avons crée en cours, mais beaucoup plus rapide. La notion de graphe n'y est pas aussi apparente et le nom des opérateurs est différent.\n",
    "\n",
    "\n",
    "\n",
    "### Télécharger les images:"
   ]
  },
  {
   "cell_type": "code",
   "execution_count": null,
   "metadata": {},
   "outputs": [],
   "source": [
    "## Telechargement des images\n",
    "import sys\n",
    "\n",
    "url=\"http://perso.esiee.fr/~talboth/ISBS/TP/isbs_images.tar.gz\"\n",
    "filename=\"isbs_images.tar.gz\"\n",
    "if (sys.version_info.major < 3):\n",
    "    ## python2 syntax\n",
    "    import urllib2\n",
    "    response = urllib2.urlopen(url, timeout = 5)\n",
    "    content = response.read()\n",
    "    f = open( filename, 'w' )\n",
    "    f.write( content )\n",
    "    f.close()\n",
    "else:\n",
    "    ## python3 syntax\n",
    "    import urllib.request\n",
    "    # Download the file from `url` and save it locally under `file_name`:\n",
    "    with urllib.request.urlopen(url) as response, open(filename, 'wb') as out_file:\n",
    "        data = response.read() # a `bytes` object\n",
    "        out_file.write(data)\n",
    "    \n",
    "!ls -l"
   ]
  },
  {
   "cell_type": "code",
   "execution_count": null,
   "metadata": {},
   "outputs": [],
   "source": [
    "## ouverture de l'archive\n",
    "!tar xvf isbs_images.tar.gz"
   ]
  },
  {
   "cell_type": "markdown",
   "metadata": {},
   "source": [
    "### section 1.1: Graphe et connectivité\n",
    "\n",
    "Jusqu'à présent, nous avons défini la connectivité par un graphe. Dans skimage, nous définissons la connectivité par un *élément structurant*"
   ]
  },
  {
   "cell_type": "code",
   "execution_count": null,
   "metadata": {},
   "outputs": [],
   "source": [
    "import skimage.io\n",
    "import skimage.morphology\n",
    "\n",
    "cell=skimage.io.imread(\"Images/cell.pgm\")\n",
    "## Generation d'une connectivité sous forme d'un disque de rayon 3\n",
    "ES1 = skimage.morphology.disk(3)\n",
    "## dilatation\n",
    "celldill1 = skimage.morphology.dilation(cell, ES1)\n",
    "imview(celldill1)"
   ]
  },
  {
   "cell_type": "markdown",
   "metadata": {},
   "source": [
    "### section 1.2: Rappel des opérateurs vus au TP1\n",
    "\n"
   ]
  },
  {
   "cell_type": "markdown",
   "metadata": {},
   "source": [
    "## operateurs de base\n",
    "\n",
    "- erosion\n",
    "- dilation\n",
    "- closing\n",
    "- opening\n",
    "\n",
    "## operateur connexes\n",
    "\n",
    "- reconstruction"
   ]
  },
  {
   "cell_type": "markdown",
   "metadata": {},
   "source": [
    "### section 1.2 : documentation de skimage\n",
    "\n",
    "La documentation de skimage est ici, \n",
    "[Documentation de skimage](http://scikit-image.org/docs/0.14.x).\n",
    "\n",
    "Vous pouvez aussi mettre un point d'interrogation avant ou après le nom d'un operateur pour savoir comment il fonctionne:\n",
    "\n",
    "exemple : `skimage.morphology.erosion?`"
   ]
  },
  {
   "cell_type": "code",
   "execution_count": null,
   "metadata": {},
   "outputs": [],
   "source": [
    "## essayez\n",
    "skimage.morphology.erosion?"
   ]
  },
  {
   "cell_type": "markdown",
   "metadata": {},
   "source": [
    "## Section 2: exercices\n",
    "Dans cette section, quelques exercices à terminer si possible avant la fin du TP\n",
    "\n",
    "### Exercice 2.1: detecter les nombres\n",
    "\n",
    "Lisez l'image `numbers.pgm` et corriger la variation du fond pour détecter les nombres. "
   ]
  },
  {
   "cell_type": "code",
   "execution_count": null,
   "metadata": {},
   "outputs": [],
   "source": [
    "nombres=skimage.io.imread(\"Images/numbers.pgm\")\n",
    "imview(nombres)\n",
    "## Les nombrs sont très peu visibles, vous pouvez essayer la colormap \"prism\" pour peut-être mieux les voir\n",
    "imview(nombres,\"prism\")"
   ]
  },
  {
   "cell_type": "code",
   "execution_count": null,
   "metadata": {},
   "outputs": [],
   "source": [
    "## répondre ici"
   ]
  },
  {
   "cell_type": "markdown",
   "metadata": {},
   "source": [
    "### Exercice 2.2 Globule rouges\n",
    "Lisez l'image `Images/bloodcells.pgm`. \n",
    "\n",
    "- Segmentez et comptez les globules rouges; \n",
    "- éliminez ceux qui touchent les bords; \n",
    "- séparez ceux qui se touchent; \n",
    "- comptez le nombre de globules rouges, et\n",
    "- affichez un histogramme de leur aire.\n",
    "\n",
    "**Indications**: \n",
    "- évitez de seuiller l'image dès la première étape. \n",
    "- La partie claire centrale des globules est caractéristique: voyez si la procédure de bouchage de trous du 1er TP pourraient être étendue aux niveaux de gris.\n",
    "- Ensuite, essayez de voir si vous pouvez utiliser cette zone centrale comme une indication.\n",
    "- N'essayez pas d'avoir un résultat parfait.\n",
    "- N'oubliez pas d'enlever les globules rouges qui touchent le bord.\n",
    "- Si possible, séparez les globules rouges qui se touchent.\n",
    "\n",
    "**fonctions utiles**: \n",
    "- filtrage (ouverture, fermetures), \n",
    "- top-hat (image-ouverture, fermeture-image), \n",
    "- reconstruction  \n",
    "- fonction distance  \n",
    "- labellisation \n",
    "- ligne de partage des eaux \n",
    "\n",
    "Pour le comptage et la mesure de l'aire, utilisez les fonctions issues de scikit-image, exemple\n",
    "\n",
    "```python\n",
    "import skimage.measure\n",
    "\n",
    "measures = skimage.measure.regionprops(bcsln)\n",
    "areas = [measures[i].area for i in range(len(measures))]\n",
    "plt.figure()\n",
    "plt.hist(areas[1:])\n",
    "```"
   ]
  },
  {
   "cell_type": "code",
   "execution_count": null,
   "metadata": {
    "scrolled": false
   },
   "outputs": [],
   "source": [
    "import skimage.measure\n",
    "\n",
    "bloodcells=skimage.io.imread(\"Images/bloodcells.pgm\")\n",
    "\n",
    "bcs = bloodcells > 120 ## not a proper segmentation !\n",
    "\n",
    "imview(bcs)\n",
    "\n",
    "bcsln = skimage.morphology.label(bcs)\n",
    "\n",
    "imview(bcsln)\n",
    "\n",
    "#viewlist((bcs,bcsln))\n",
    "\n",
    "measures = skimage.measure.regionprops(bcsln)\n",
    "areas = [measures[i].area for i in range(len(measures))]\n",
    "plt.figure()\n",
    "plt.hist(areas[1:])"
   ]
  },
  {
   "cell_type": "code",
   "execution_count": null,
   "metadata": {},
   "outputs": [],
   "source": [
    "import skimage.morphology as morpho\n",
    "\n",
    "def bjseg(img, up, down, lu, ld):\n",
    "    \"\"\"\n",
    "    Boykov-Jolly segmentation\n",
    "    \"\"\"\n",
    "    return\n",
    "\n",
    "holes = bloodcells > 120\n",
    "holeslab = skimage.morphology.label(holes)\n",
    "holesmeas = skimage.measure.regionprops(holeslab)\n",
    "\n",
    "# external gradient\n",
    "grad = morpho.dilation(bloodcells,morpho.square(1))-bloodcells\n"
   ]
  },
  {
   "cell_type": "code",
   "execution_count": null,
   "metadata": {
    "scrolled": false
   },
   "outputs": [],
   "source": [
    "bloodcells=skimage.io.imread(\"Images/bloodcells.pgm\")\n",
    "imview(bloodcells)"
   ]
  },
  {
   "cell_type": "markdown",
   "metadata": {},
   "source": [
    "### Exercice 2.3: cellules musculaires\n",
    "\n",
    "Lire l'image `Images/muscles.pgm`. Segmentez les cellules de muscles, puis \n",
    "\n",
    "- éliminez ceux qui touchent les bords; \n",
    "- comptez le nombre de cellules, et\n",
    "- affichez un histogramme de leur aire.\n",
    "\n",
    "**Indications**\n",
    "- Ne seuillez pas immédiatement\n",
    "- Essayez de rehausser les contours blanc des cellules musculaires\n",
    "- Fonctions utiles:\n",
    "    - areaopening *(voir doc)*\n",
    "- Observez que l'intérieur des cellules est plus sombre que leur contour, comme dans une image de gradient. Après rehaussement, essayez de voir si vous pouvez vous en servir, par exemple dans le contexte de la ligne de partage des eaux."
   ]
  },
  {
   "cell_type": "code",
   "execution_count": null,
   "metadata": {},
   "outputs": [],
   "source": [
    "bloodcells_ero = skimage.morphology.erosion(bloodcells,skimage.morphology.disk(8))\n",
    "imview(bloodcells_ero)\n",
    "bloodcells_recons = skimage.morphology.reconstruction(bloodcells_ero,bloodcells)\n",
    "imview(bloodcells_recons)"
   ]
  },
  {
   "cell_type": "code",
   "execution_count": null,
   "metadata": {},
   "outputs": [],
   "source": [
    "muscle=skimage.io.imread(\"Images/muscle.pgm\")\n",
    "imview(muscle)"
   ]
  },
  {
   "cell_type": "markdown",
   "metadata": {},
   "source": [
    "## Section 3: mini-projet\n",
    "\n",
    "Le projet est très simple. On considère 3 images, qui sont des images\n",
    "“angiokits” d’un test biologique, ayant pour but de déterminer si certaines substances ont pour effet ou\n",
    "non de promouvoir la croissance de cellules endothéliales de vaisseaux sanguins humains. Les cellules sont\n",
    "cultivées sur un substrat de cellules musculaires, dans une boite de Petri.\n",
    "\n",
    "Ces substances peuvent entrer dans la composition de médicaments futurs ayant pour effet d’accélérer\n",
    "la croissance de vaisseaux en cas de blessure, ou bien au contraire de les ralentir pour aider à combattre\n",
    "certaines tumeurs malignes. Les images sont fournies gracieusement par Sanofi et correspondent à un\n",
    "problème réel.\n",
    "\n",
    "### 3.1 : lecture des images\n",
    "\n",
    "Les images sont situés ici\n",
    "\n",
    "`Images/projet/vide512.pgm`\n",
    "`Images/projet/acne512.pgm`\n",
    "`Images/projet/poils512.pgm`\n",
    "\n",
    "Les noms sont descriptifs mais n'ont pas de valeur réelle. \n",
    "\n",
    "Votre objectif est de produire une fonction qui permet de distinguer les 3 cas: l'image vide est essentiellement une boite de petri où rien n'a poussé. L'image \"acne\" est une image où la croissance s'est produite de manière compacte, et l'image \"poils\" où elle s'est produite de manière anisotrope.\n",
    "\n",
    "On souhaite que vous produisiez une ou plusieurs procédures dont le(s) résultat(s) sont des mesures numériques qui donne des résultats suffisamment différents dans les trois cas pour pouvoir les distinguer. On pourra par exemple penser à des mesures de surfaces, longueurs, etc. Vous devrez justifier vos choix.\n",
    "\n"
   ]
  },
  {
   "cell_type": "code",
   "execution_count": null,
   "metadata": {},
   "outputs": [],
   "source": [
    "vide=skimage.io.imread(\"Images/projet/vide512.pgm\")\n",
    "acne=skimage.io.imread(\"Images/projet/acne512.pgm\")\n",
    "poil=skimage.io.imread(\"Images/projet/poils512.pgm\")\n",
    "\n",
    "    \n",
    "viewlist((vide,acne,poil))\n"
   ]
  },
  {
   "cell_type": "markdown",
   "metadata": {},
   "source": [
    "### 3.2 : mise en oeuvre\n",
    "\n",
    "Mettez en oeuvre les mesures que vous avez décrites. En particulier, vous devez produire une fonction Pink/Python qui prend en entrée une image et donne comme résultat le nombre 0 s’il s’agit d’une image vide, le nombre 1 s’il s’agit d’une image « d’acné »et le nombre 2 s’il s’agit d’une image de « poils ».\n",
    "Votre procédure pourra être testée sur des *images auquelles vous n’avez pas accès*, pour estimer la\n",
    "robustesse de votre approche. Donnez le détail et le résultat de chaque opération.\n",
    "\n",
    "** Quelques indications: **\n",
    "\n",
    "- Ne seuillez pas l'image immédiatement\n",
    "- Le fond de l'image n'est pas uniforme, corrigez le (vous savez faire !, voir TD fond d'oeil ou première question de ce TP)\n",
    "- restreignez l'image à la partie où se trouve les vraies données (le puit)\n",
    "    - par exemple essayez de segmenter le puit (préférable)\n",
    "        - un seuillage peut marcher\n",
    "        - eventuellement suivi d'opérateur de filtrage morphologique pour obtenir un masque binaire du puit\n",
    "        - inutile de trouver les contours du puit précisément.\n",
    "        - le résultat doit être un masque binaire\n",
    "    - si vous avez du mal, restreignez l'image à sa partie centrale. Pour ça vous pouvez utiliser les opérateurs de \"slicing\" de python: exemple\n",
    "```python\n",
    "vide=skimage.io.imread(\"Images/projet/vide512.pgm\")\n",
    "vidsmall = viden[100:400,100:400]\n",
    "plt.figure()\n",
    "plt.imshow(vidsmall)\n",
    "```\n",
    "- une fois le fond corrigé et l'image restreinte, vous pouvez seuiller, vous avez a le droit ! \n",
    "    - essayez les façons de seuiller automatiques [toutes ces méthodes](http://scikitimage.org/docs/dev/auto_examples/xx_applications/plot_thresholding.html) avec scikit-image.\n",
    "- si vous avez un masque binaire du puit, utilisez le pour ne garder que les objets sur le puit\n",
    "- labellisez ce que vous donne le seuillage\n",
    "- utilisez des mesures diverses : surface, périmètre par exemple, mais aussi peut-être nombre d'objet, excentricité ?\n",
    "- faites divers scatterplots des mesures que vous obtenez pour voir si vous pouvez trouver un ou plusieurs critère de sélection robuste."
   ]
  },
  {
   "cell_type": "code",
   "execution_count": null,
   "metadata": {},
   "outputs": [],
   "source": [
    "viden=skimage.io.imread(\"Images/projet/vide512.pgm\")\n",
    "vidsmall = viden[100:400,100:400]"
   ]
  },
  {
   "cell_type": "markdown",
   "metadata": {
    "collapsed": true
   },
   "source": [
    "## Soumission\n",
    "\n",
    "Merci de soumettre votre notebook complété par mail à hugues.talbot@centralesupelec.fr pour le 14/04/2019\n",
    "\n",
    "Vous pouvez aussi soumettre votre notebook sur Edunao: https://saclay-centralesupelec.edunao.com/course/view.php?id=903"
   ]
  },
  {
   "cell_type": "code",
   "execution_count": null,
   "metadata": {},
   "outputs": [],
   "source": []
  }
 ],
 "metadata": {
  "kernelspec": {
   "display_name": "Python 3",
   "language": "python",
   "name": "python3"
  },
  "language_info": {
   "codemirror_mode": {
    "name": "ipython",
    "version": 3
   },
   "file_extension": ".py",
   "mimetype": "text/x-python",
   "name": "python",
   "nbconvert_exporter": "python",
   "pygments_lexer": "ipython3",
   "version": "3.7.1"
  },
  "latex_envs": {
   "LaTeX_envs_menu_present": true,
   "autoclose": false,
   "autocomplete": true,
   "bibliofile": "biblio.bib",
   "cite_by": "apalike",
   "current_citInitial": 1,
   "eqLabelWithNumbers": true,
   "eqNumInitial": 1,
   "hotkeys": {
    "equation": "Ctrl-E",
    "itemize": "Ctrl-I"
   },
   "labels_anchors": false,
   "latex_user_defs": false,
   "report_style_numbering": false,
   "user_envs_cfg": false
  }
 },
 "nbformat": 4,
 "nbformat_minor": 2
}
