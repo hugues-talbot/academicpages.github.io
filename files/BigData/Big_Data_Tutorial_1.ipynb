{
 "cells": [
  {
   "cell_type": "markdown",
   "metadata": {},
   "source": [
    "# Big data tutorial 1"
   ]
  },
  {
   "cell_type": "markdown",
   "metadata": {},
   "source": [
    "## Wordcount on Hadoop using Python\n",
    "\n",
    "Lesson 1, Introduction to Map/Reduce Module, Running Wordcount with streaming, using Python code"
   ]
  },
  {
   "cell_type": "markdown",
   "metadata": {},
   "source": [
    "1. Open a Terminal (Right-click on Desktop or click Terminal icon in the top toolbar) \n",
    "2. Review the following to create the python code\n",
    "Section 1: wordcount_mapper.py"
   ]
  },
  {
   "cell_type": "markdown",
   "metadata": {},
   "source": [
    "### section 1: mapper"
   ]
  },
  {
   "cell_type": "code",
   "execution_count": 1,
   "metadata": {},
   "outputs": [],
   "source": [
    "#!/usr/bin/env python   \n",
    "#the above just indicates to use python to intepret this file\n",
    "\n",
    "# ---------------------------------------------------------------\n",
    "#This mapper code will input a line of text and output <word, 1>\n",
    "# \n",
    "# ---------------------------------------------------------------\n",
    "\n",
    "import sys             #a python module with system functions for this OS\n",
    "\n",
    "# ------------------------------------------------------------\n",
    "#  this 'for loop' will set 'line' to an input line from system \n",
    "#    standard input file\n",
    "# ------------------------------------------------------------\n",
    "for line in sys.stdin:  \n",
    "\n",
    "#-----------------------------------\n",
    "#sys.stdin call 'sys' to read a line from standard input, \n",
    "# note that 'line' is a string object, ie variable, and it has methods that you can apply to it,\n",
    "# as in the next line\n",
    "# ---------------------------------\n",
    "    line = line.strip()  #strip is a method, ie function, associated\n",
    "                         #  with string variable, it will strip \n",
    "                         #   the carriage return (by default)\n",
    "    keys = line.split()  #split line at blanks (by default), \n",
    "                         #   and return a list of keys\n",
    "    for key in keys:     #a for loop through the list of keys\n",
    "        value = 1        \n",
    "        print('{0}\\t{1}'.format(key, value) ) #the {} is replaced by 0th,1st items in format list\n",
    "                            #also, note that the Hadoop default is 'tab' separates key from the value\n",
    "\n"
   ]
  },
  {
   "cell_type": "markdown",
   "metadata": {},
   "source": [
    "### Section 2: wordcount_reducer.py\n",
    "\n",
    "The reducer code has some basic parts, see the comments in the code. The Lesson 2 assignment will have a similar basic structure."
   ]
  },
  {
   "cell_type": "code",
   "execution_count": 3,
   "metadata": {},
   "outputs": [
    {
     "name": "stdout",
     "output_type": "stream",
     "text": [
      "None\t0\n"
     ]
    }
   ],
   "source": [
    "#!/usr/bin/env python\n",
    "\n",
    "# ---------------------------------------------------------------\n",
    "#This reducer code will input a line of text and \n",
    "#    output <word, total-count>\n",
    "# ---------------------------------------------------------------\n",
    "import sys\n",
    "\n",
    "last_key      = None              #initialize these variables\n",
    "this_key      = None\n",
    "running_total = 0\n",
    "\n",
    "# -----------------------------------\n",
    "# Loop thru file\n",
    "#  --------------------------------\n",
    "for input_line in sys.stdin:\n",
    "    input_line = input_line.strip()\n",
    "\n",
    "    # --------------------------------\n",
    "    # Get Next Word    # --------------------------------\n",
    "    this_key, value = input_line.split(\"\\t\", 1)  #the Hadoop default is tab separates key value\n",
    "                          #the split command returns a list of strings, in this case into 2 variables\n",
    "    value = int(value)           #int() will convert a string to integer (this program does no error checking)\n",
    " \n",
    "    # ---------------------------------\n",
    "    # Key Check part\n",
    "    #    if this current key is same \n",
    "    #          as the last one Consolidate\n",
    "    #    otherwise  Emit\n",
    "    # ---------------------------------\n",
    "    if last_key == this_key:     #check if key has changed ('==' is                                   #      logical equalilty check\n",
    "        running_total += value   # add value to running total\n",
    "\n",
    "    else:\n",
    "        if last_key:             #if this key that was just read in\n",
    "                                 #   is different, and the previous \n",
    "                                 #   (ie last) key is not empy,\n",
    "                                 #   then output \n",
    "                                 #   the previous <key running-count>\n",
    "            print( \"{0}\\t{1}\".format(last_key, running_total) )\n",
    "                                 # hadoop expects tab(ie '\\t') \n",
    "                                 #    separation\n",
    "        running_total = value    #reset values\n",
    "        last_key = this_key\n",
    "\n",
    "if last_key == this_key:\n",
    "    print( \"{0}\\t{1}\".format(last_key, running_total)) \n",
    "\t"
   ]
  },
  {
   "cell_type": "code",
   "execution_count": null,
   "metadata": {},
   "outputs": [],
   "source": [
    "NOTE: If you have not programmed with Python please read the following:\n",
    "\n",
    "Python notes: \n",
    "#    1 indentations are required to indicate blocks of code,\n",
    "#    2  all code to be executed as part of some flow control\n",
    "#          (e.g. if or for statements) must have the same indentation\n",
    "#          (to be safe use 4 space per indentation level, and don't\n",
    "#            mix with tabs)\n",
    "#    3 flow control conditions have a ':' before\n",
    "#          the corresponding block of code\n",
    "#"
   ]
  },
  {
   "cell_type": "markdown",
   "metadata": {},
   "source": [
    "You can cut and paste the above into a text file as follows from the terminal prompt in Cloudera VM.\n",
    "\n",
    "Type in the following to open a text editor, and then cut and paste the above lines for wordcount_mapper.py into the text editor, save, and exit. Repeat for wordcount_reducer.py\n",
    "\n",
    "> gedit wordcount_mapper.py\n",
    "\n",
    "> gedit wordcount_reducer.py\n",
    "\n",
    "Enter the following to see that the indentations line up as above\n",
    "\n",
    "> more wordcount_mapper.py\n",
    "\n",
    "> more wordcount_reducer.py\n",
    "\n",
    "Enter the following to make it executable\n",
    "\n",
    "> chmod +x wordcount_mapper.py\n",
    "\n",
    "> chmod +x wordcount_reducer.py\n",
    "\n",
    "Enter the following to see what directory you are in\n",
    "\n",
    "> pwd\n",
    "\n",
    "It should be /user/cloudera , or something like that."
   ]
  },
  {
   "cell_type": "markdown",
   "metadata": {},
   "source": [
    "### Section 3. Create some data:\n",
    "> echo \"A long time ago in a galaxy far far away\" > /home/cloudera/testfile1\n",
    "\n",
    "> echo \"Another episode of Star Wars\" > /home/cloudera/testfile2"
   ]
  },
  {
   "cell_type": "markdown",
   "metadata": {},
   "source": [
    "### Section 4. Create a directory on the HDFS file system (if already exists that’s OK):\n",
    "hdfs dfs -mkdir /user/cloudera/input"
   ]
  },
  {
   "cell_type": "markdown",
   "metadata": {},
   "source": [
    "### Section 5. Copy the files from local filesystem to the HDFS filesystem:\n",
    "hdfs dfs -put /home/cloudera/testfile1 /user/cloudera/input\n",
    "\n",
    "hdfs dfs -put /home/cloudera/testfile2 /user/cloudera/input"
   ]
  },
  {
   "cell_type": "markdown",
   "metadata": {},
   "source": [
    "### Section 6. You can see your files on HDFS\n",
    "hdfs dfs -ls /user/cloudera/input"
   ]
  },
  {
   "cell_type": "markdown",
   "metadata": {},
   "source": [
    "### Section 7. Run the Hadoop WordCount example with the input and output specified.\n",
    "Note that your file paths may differ. The ‘\\’ just means the command continues on next line."
   ]
  },
  {
   "cell_type": "code",
   "execution_count": null,
   "metadata": {},
   "outputs": [],
   "source": [
    "hadoop jar /usr/lib/hadoop-mapreduce/hadoop-streaming.jar \\\n",
    "   -input /user/cloudera/input \\\n",
    "   -output /user/cloudera/output_new \\\n",
    "   -mapper /home/cloudera/wordcount_mapper.py \\\n",
    "   -reducer /home/cloudera/wordcount_reducer.py"
   ]
  },
  {
   "cell_type": "markdown",
   "metadata": {},
   "source": [
    "Hadoop prints out a whole lot of logging or error information. If it runs you will see something like the following on the screen scroll by:"
   ]
  },
  {
   "cell_type": "code",
   "execution_count": null,
   "metadata": {},
   "outputs": [],
   "source": [
    "....\n",
    "\n",
    "INFO mapreduce.Job: map 0% reduce 0%\n",
    "\n",
    "INFO mapreduce.Job: map 67% reduce 0%\n",
    "\n",
    "INFO mapreduce.Job: map 100% reduce 0%\n",
    "\n",
    "INFO mapreduce.Job: map 100% reduce 100%\n",
    "\n",
    "INFO mapreduce.Job: Job job_1442937183788_0003 completed successfully\n",
    "\n",
    "..."
   ]
  },
  {
   "cell_type": "markdown",
   "metadata": {},
   "source": [
    "### Section 8. Check the output file to see the results:\n",
    "hdfs dfs -cat /user/cloudera/output_new/part-00000"
   ]
  },
  {
   "cell_type": "markdown",
   "metadata": {},
   "source": [
    "### Section 9. View the output directory:\n",
    "hdfs dfs -ls /user/cloudera/output_new\n",
    "\n",
    "Look at the files there and check out the contents, e.g.:\n",
    "\n",
    "hdfs dfs -cat /user/cloudera/output_new/part-00000"
   ]
  },
  {
   "cell_type": "markdown",
   "metadata": {},
   "source": [
    "### Section 10. Streaming options:\n",
    "Try: hadoop jar /usr/lib/hadoop-mapreduce/hadoop-streaming.jar --help\n",
    "\n",
    "or see hadoop.apache.org/docs/r1.2.1/\n",
    "\n",
    "Let’s change the number of reduce tasks to see its effects. Setting it to 0 will execute no reducer and only produce the map output. (Note the output directory is changed in the snippet below because Hadoop doesn’t like to overwrite output)"
   ]
  },
  {
   "cell_type": "code",
   "execution_count": null,
   "metadata": {},
   "outputs": [],
   "source": [
    "hadoop jar /usr/lib/hadoop-mapreduce/hadoop-streaming.jar \\\n",
    "   -input /user/cloudera/input \\\n",
    "   -output /user/cloudera/output_new_0 \\\n",
    "   -mapper /home/cloudera/wordcount_mapper.py \\\n",
    "   -reducer /home/cloudera/wordcount_reducer.py \\\n",
    "   -numReduceTasks 0"
   ]
  },
  {
   "cell_type": "markdown",
   "metadata": {},
   "source": [
    "Get the output file from this run, and then upload it:\n",
    "\n",
    "> hdfs dfs -getmerge /user/cloudera/output_new_0/* wordcount_num0_output.txt"
   ]
  },
  {
   "cell_type": "markdown",
   "metadata": {},
   "source": [
    "Try to notice the differences between the output when the reducers are run in Step 9, versus the output when there are no reducers and only the mapper is run in this step. The point of the task is to be aware of what the intermediate results look like. A successful result will have words and counts that are not accumulated (which the reducer performs). Hopefully, this will help you get a sense of how data and tasks are split upin the map/reduce framework, and we will build upon that in the next lesson."
   ]
  },
  {
   "cell_type": "markdown",
   "metadata": {},
   "source": [
    "### 11. Change the number of reducers to 2"
   ]
  },
  {
   "cell_type": "markdown",
   "metadata": {},
   "source": [
    "When you use 2 reducers instead of 1 reducer, what is the difference in global sort order?\n",
    "\n",
    "\n",
    "- With 1 reducer, but not 2 reducers, the word counts are in global sort order by word.\n",
    "\n",
    "\n",
    "- With 2 reducers, but not 1 reducer, the word counts are in global sort order by word.\n",
    "\n",
    "\n",
    "- With 1 reducer or 2 reducers, the word counts are in global sort order by word.\n",
    "\n",
    "\n",
    "- With 1 reducer or 2 reducers, the word counts are NOT in global sort order by word."
   ]
  },
  {
   "cell_type": "code",
   "execution_count": null,
   "metadata": {},
   "outputs": [],
   "source": []
  }
 ],
 "metadata": {
  "kernelspec": {
   "display_name": "Python 3",
   "language": "python",
   "name": "python3"
  },
  "language_info": {
   "codemirror_mode": {
    "name": "ipython",
    "version": 3
   },
   "file_extension": ".py",
   "mimetype": "text/x-python",
   "name": "python",
   "nbconvert_exporter": "python",
   "pygments_lexer": "ipython3",
   "version": "3.7.5"
  },
  "latex_envs": {
   "LaTeX_envs_menu_present": true,
   "autoclose": false,
   "autocomplete": true,
   "bibliofile": "biblio.bib",
   "cite_by": "apalike",
   "current_citInitial": 1,
   "eqLabelWithNumbers": true,
   "eqNumInitial": 1,
   "hotkeys": {
    "equation": "Ctrl-E",
    "itemize": "Ctrl-I"
   },
   "labels_anchors": false,
   "latex_user_defs": false,
   "report_style_numbering": false,
   "user_envs_cfg": false
  }
 },
 "nbformat": 4,
 "nbformat_minor": 2
}
