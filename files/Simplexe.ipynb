{
 "cells": [
  {
   "cell_type": "code",
   "execution_count": 2,
   "metadata": {},
   "outputs": [],
   "source": [
    "%qtconsole\n",
    "%load_ext autoreload\n",
    "%autoreload 2"
   ]
  },
  {
   "cell_type": "code",
   "execution_count": 4,
   "metadata": {},
   "outputs": [],
   "source": [
    "import numpy as np"
   ]
  },
  {
   "cell_type": "markdown",
   "metadata": {},
   "source": [
    "## The simplex algorithm\n",
    "\n",
    "Implementing the algorithm seen during the lectures"
   ]
  },
  {
   "cell_type": "code",
   "execution_count": 1,
   "metadata": {},
   "outputs": [],
   "source": [
    "def simplexit(A,b,c, init, debug=True, expectNullOptimum=False):\n",
    "    \"\"\"\n",
    "    Implements the standard matrix form of the simplex algorithm\n",
    "\n",
    "    Hugues Talbot 2018, from an initial version in R ca. 2009.\n",
    "    \"\"\"\n",
    "    iter = 0\n",
    "    dim=A.shape[0]\n",
    "    nbvar=A.shape[1]\n",
    "    lastx=0\n",
    "    lastxl=0\n",
    "    sol=None\n",
    "    IBVmem=None # to detect cycles\n",
    "\n",
    "    vars=np.arange(0,nbvar) # indices start at 0\n",
    "    IBV=init # Initial basis vector\n",
    "    while (True):\n",
    "        if debug:\n",
    "            print(\"*** Iteration: \", iter)\n",
    "        NBV = np.setdiff1d(vars,IBV) # Set complement -> non basis variables\n",
    "        if debug:\n",
    "            print(\"    IBV = \", IBV)\n",
    "            print(\"    NBV = \", NBV)\n",
    "\n",
    "        B=A[:,IBV]\n",
    "        E=A[:,NBV]\n",
    "        cb = c[IBV]\n",
    "        ce = c[NBV]\n",
    "\n",
    "        if debug:\n",
    "            print(\"    B = \\n\", B)\n",
    "            print(\"    E = \\n\", E)\n",
    "\n",
    "        try:\n",
    "            iB = np.linalg.inv(B)\n",
    "        except:\n",
    "            print(\"B is not invertible, error\")\n",
    "            break\n",
    "\n",
    "        if debug:\n",
    "            print(\"    iB = \\n\", iB)\n",
    "\n",
    "        bbar = iB.dot(b)\n",
    "        if (np.min(bbar) < -1e-7):\n",
    "            print(\"bbar is not positive, not a feasible solution\")\n",
    "            break\n",
    "\n",
    "        if debug:\n",
    "            print(\"    bbar= \", bbar)\n",
    "\n",
    "        cebart = ce.T - cb.T.dot(iB).dot(E)\n",
    "\n",
    "        if debug:\n",
    "            print(\"  reduced costs\", cebart)\n",
    "\n",
    "        if (np.min(cebart) >= 0):\n",
    "            print(\" optimum found!\")\n",
    "            sol = (IBV, bbar)\n",
    "            print(\"IBV = \", IBV)\n",
    "            print(\"Bbar= \", bbar)\n",
    "            if ((np.min(cebart) > 0) or expectNullOptimum):\n",
    "                break\n",
    "            if (IBVmem is None):\n",
    "                IBVmem = IBV\n",
    "            else:\n",
    "                if (IBV == IBVmem):\n",
    "                    print(\"Cycle detected\\n\")\n",
    "                    break\n",
    "\n",
    "        l = np.argmin(cebart) # may not be unique\n",
    "        P = iB.dot(A[:,NBV[l]])\n",
    "        if (debug):\n",
    "            print(\"P = \", P)\n",
    "        if (np.max(P) <= 0):\n",
    "            print(\"Solution in unbounded!\")\n",
    "            break\n",
    "        ratios = bbar/P ## elementwise division\n",
    "        if (debug):\n",
    "            print(\"Ratios = \", ratios)\n",
    "        ## Ignore negative members f P\n",
    "        negP = P < 0\n",
    "        ratios[negP] = np.inf ## this way they will not be selected as the min\n",
    "        nanP = np.isnan(ratios)\n",
    "        ratios[nanP] = np.inf ## nan are eliminated as well\n",
    "        if (debug):\n",
    "            print(\"Fixed ratios = \", ratios)\n",
    "        xl = np.min(ratios)\n",
    "        j = np.argmin(ratios)\n",
    "        lastx = xl\n",
    "        lastxl = NBV[l]\n",
    "        if (debug):\n",
    "            print(\"Variable (\", IBV[j],\") in the basis replaced by variable (\",NBV[l],\")\\n\")\n",
    "            print(\"xl = \",xl)\n",
    "\n",
    "        IBV[j] = NBV[l]\n",
    "        if (debug):\n",
    "            print(\"IBV = \", IBV)\n",
    "\n",
    "        iter += 1\n",
    "        ## end while\n",
    "        \n",
    "    return sol"
   ]
  },
  {
   "cell_type": "code",
   "execution_count": 2,
   "metadata": {},
   "outputs": [],
   "source": [
    "## exercice 2, TD1 (production de A,B,C liée)\n",
    "def exampleII(debug=True):\n",
    "    # A <- matrix(data =c(-1, 0, 1, 2, -1, 2, 0, 1, 3, 1, 0, 0, 0, 1, 0, 0, 0, 1), ncol=6, nrow=3)\n",
    "    A = np.array([[-1,  2, 0, 1, 0, 0], \n",
    "                  [ 0, -1, 1, 0, 1, 0], \n",
    "                  [ 1,  2, 3, 0, 0, 1]])\n",
    "    b = np.array([  0,  0, 35])\n",
    "    C = np.array([-10,-36,-44, 0, 0, 0])\n",
    "    IBV = np.array([3,4,5]) # index of the IBV\n",
    "    sol = simplexit(A,b,C,IBV,debug)\n",
    "    \n",
    "    # calcul optimum\n",
    "    z = C[sol[0]].dot(sol[1])\n",
    "    return(z)\n"
   ]
  },
  {
   "cell_type": "code",
   "execution_count": 6,
   "metadata": {},
   "outputs": [
    {
     "name": "stdout",
     "output_type": "stream",
     "text": [
      "*** Iteration:  0\n",
      "    IBV =  [3 4 5]\n",
      "    NBV =  [0 1 2]\n",
      "    B = \n",
      " [[1 0 0]\n",
      " [0 1 0]\n",
      " [0 0 1]]\n",
      "    E = \n",
      " [[-1  2  0]\n",
      " [ 0 -1  1]\n",
      " [ 1  2  3]]\n",
      "    iB = \n",
      " [[1. 0. 0.]\n",
      " [0. 1. 0.]\n",
      " [0. 0. 1.]]\n",
      "    bbar=  [ 0.  0. 35.]\n",
      "  reduced costs [-10. -36. -44.]\n",
      "P =  [0. 1. 3.]\n",
      "Ratios =  [        nan  0.         11.66666667]\n",
      "Fixed ratios =  [        inf  0.         11.66666667]\n",
      "Variable ( 4 ) in the basis replaced by variable ( 2 )\n",
      "\n",
      "xl =  0.0\n",
      "IBV =  [3 2 5]\n",
      "*** Iteration:  1\n",
      "    IBV =  [3 2 5]\n",
      "    NBV =  [0 1 4]\n",
      "    B = \n",
      " [[1 0 0]\n",
      " [0 1 0]\n",
      " [0 3 1]]\n",
      "    E = \n",
      " [[-1  2  0]\n",
      " [ 0 -1  1]\n",
      " [ 1  2  0]]\n",
      "    iB = \n",
      " [[ 1.  0.  0.]\n",
      " [ 0.  1.  0.]\n",
      " [-0. -3.  1.]]\n",
      "    bbar=  [ 0.  0. 35.]\n",
      "  reduced costs [-10. -80.  44.]\n",
      "P =  [ 2. -1.  5.]\n",
      "Ratios =  [ 0. -0.  7.]\n",
      "Fixed ratios =  [ 0. inf  7.]\n",
      "Variable ( 3 ) in the basis replaced by variable ( 1 )\n",
      "\n",
      "xl =  0.0\n",
      "IBV =  [1 2 5]\n",
      "*** Iteration:  2\n",
      "    IBV =  [1 2 5]\n",
      "    NBV =  [0 3 4]\n",
      "    B = \n",
      " [[ 2  0  0]\n",
      " [-1  1  0]\n",
      " [ 2  3  1]]\n",
      "    E = \n",
      " [[-1  1  0]\n",
      " [ 0  0  1]\n",
      " [ 1  0  0]]\n",
      "    iB = \n",
      " [[ 0.5  0.   0. ]\n",
      " [ 0.5  1.   0. ]\n",
      " [-2.5 -3.   1. ]]\n",
      "    bbar=  [ 0.  0. 35.]\n",
      "  reduced costs [-50.  40.  44.]\n",
      "P =  [-0.5 -0.5  3.5]\n",
      "Ratios =  [-0. -0. 10.]\n",
      "Fixed ratios =  [inf inf 10.]\n",
      "Variable ( 5 ) in the basis replaced by variable ( 0 )\n",
      "\n",
      "xl =  10.0\n",
      "IBV =  [1 2 0]\n",
      "*** Iteration:  3\n",
      "    IBV =  [1 2 0]\n",
      "    NBV =  [3 4 5]\n",
      "    B = \n",
      " [[ 2  0 -1]\n",
      " [-1  1  0]\n",
      " [ 2  3  1]]\n",
      "    E = \n",
      " [[1 0 0]\n",
      " [0 1 0]\n",
      " [0 0 1]]\n",
      "    iB = \n",
      " [[ 0.14285714 -0.42857143  0.14285714]\n",
      " [ 0.14285714  0.57142857  0.14285714]\n",
      " [-0.71428571 -0.85714286  0.28571429]]\n",
      "    bbar=  [ 5.  5. 10.]\n",
      "  reduced costs [ 4.28571429  1.14285714 14.28571429]\n",
      " optimum found!\n",
      "IBV =  [1 2 0]\n",
      "Bbar=  [ 5.  5. 10.]\n"
     ]
    },
    {
     "name": "stderr",
     "output_type": "stream",
     "text": [
      "/usr/local/Cellar/ipython/7.3.0/libexec/vendor/lib/python3.7/site-packages/ipykernel_launcher.py:77: RuntimeWarning: invalid value encountered in true_divide\n"
     ]
    },
    {
     "data": {
      "text/plain": [
       "-500.0"
      ]
     },
     "execution_count": 6,
     "metadata": {},
     "output_type": "execute_result"
    }
   ],
   "source": [
    "exampleII(debug=True)"
   ]
  },
  {
   "cell_type": "code",
   "execution_count": 7,
   "metadata": {},
   "outputs": [],
   "source": [
    "## Bakery problem\n",
    "def bakery2(debug=True):\n",
    "    # A <- matrix(data =c(-1, 0, 1, 2, -1, 2, 0, 1, 3, 1, 0, 0, 0, 1, 0, 0, 0, 1), ncol=6, nrow=3)\n",
    "    A = np.array([[ 5, -1, 1, 1, 0], \n",
    "                  [ 1,  0, 0, 0, 1]])\n",
    "    b = np.array([30, 5])\n",
    "    C = np.array([-30, 4, -4, 0, 0])\n",
    "    IBV = np.array([3,4]) # index of the IBV\n",
    "    sol = simplexit(A,b,C,IBV,debug)\n",
    "    \n",
    "    # calcul optimum\n",
    "    z = C[sol[0]].dot(sol[1])\n",
    "    return(z)"
   ]
  },
  {
   "cell_type": "code",
   "execution_count": 8,
   "metadata": {},
   "outputs": [
    {
     "name": "stdout",
     "output_type": "stream",
     "text": [
      " optimum found!\n",
      "IBV =  [2 0]\n",
      "Bbar=  [5. 5.]\n",
      "Solution in unbounded!\n"
     ]
    },
    {
     "name": "stderr",
     "output_type": "stream",
     "text": [
      "/Users/talboth/Library/Python/3.6/lib/python/site-packages/ipykernel_launcher.py:77: RuntimeWarning: divide by zero encountered in true_divide\n"
     ]
    },
    {
     "data": {
      "text/plain": [
       "-170.0"
      ]
     },
     "execution_count": 8,
     "metadata": {},
     "output_type": "execute_result"
    }
   ],
   "source": [
    "bakery2(debug=False)"
   ]
  },
  {
   "cell_type": "markdown",
   "metadata": {},
   "source": [
    "### Alloy problem"
   ]
  },
  {
   "cell_type": "code",
   "execution_count": 9,
   "metadata": {},
   "outputs": [],
   "source": [
    "## Alloy problem\n",
    "def alloys(debug=True):\n",
    "    A = np.array([[ 10, 10, 40, 60, 30, 30, 30, 50, 20, 1, 0, 0], \n",
    "                  [ 10, 30, 50, 30, 30, 40, 20, 40, 30, 0, 1, 0],\n",
    "                  [ 80, 60, 10, 10, 40, 30, 50, 10, 50, 0, 0, 1]])\n",
    "    b = np.array([30, 30, 40])\n",
    "    C = 100*np.array([4.1, 4.3, 5.8, 6.0, 7.6, 7.5, 7.3, 6.9, 7.3, 100, 100, 100])\n",
    "    IBV = np.array([9,10,11]) # index of the IBV\n",
    "    sol = simplexit(A,b,C,IBV,debug)\n",
    "    \n",
    "    # calcul optimum\n",
    "    z = C[sol[0]].dot(sol[1])\n",
    "    return(z)"
   ]
  },
  {
   "cell_type": "code",
   "execution_count": 10,
   "metadata": {},
   "outputs": [
    {
     "name": "stdout",
     "output_type": "stream",
     "text": [
      " optimum found!\n",
      "IBV =  [3 1 0]\n",
      "Bbar=  [4.00000000e-01 6.00000000e-01 1.11022302e-16]\n"
     ]
    },
    {
     "data": {
      "text/plain": [
       "498.0"
      ]
     },
     "execution_count": 10,
     "metadata": {},
     "output_type": "execute_result"
    }
   ],
   "source": [
    "alloys(debug=False)"
   ]
  },
  {
   "cell_type": "markdown",
   "metadata": {},
   "source": [
    "## Collisions\n",
    "\n",
    "In the dual, if the solution is unbounded, this means that there is no solution in the primal"
   ]
  },
  {
   "cell_type": "code",
   "execution_count": 11,
   "metadata": {},
   "outputs": [],
   "source": [
    "## Alloy problem\n",
    "def collisions(debug=True):\n",
    "    A = np.array([[ 1,  1, -2, -1, -1, 2, 1, 0], \n",
    "                  [ 1, -2,  1,  1, -1, 1, 0, 1]])\n",
    "    b = np.array([0, 0])\n",
    "    C = -1*np.array([5, -10, -4, 6, -10, 10, 0, 0])\n",
    "    IBV = np.array([6,7]) # index of the IBV\n",
    "    sol = simplexit(A,b,C,IBV,debug)\n",
    "    \n",
    "    # calcul optimum not needed\n",
    "    # z = C[sol[0]].dot(sol[1])\n",
    "    return"
   ]
  },
  {
   "cell_type": "code",
   "execution_count": 12,
   "metadata": {},
   "outputs": [
    {
     "name": "stdout",
     "output_type": "stream",
     "text": [
      "Solution in unbounded!\n"
     ]
    }
   ],
   "source": [
    "collisions(debug=False)"
   ]
  },
  {
   "cell_type": "markdown",
   "metadata": {},
   "source": [
    "#### Unbounded solution in the dual, so no solution in the primal, so no collision !"
   ]
  },
  {
   "cell_type": "code",
   "execution_count": 14,
   "metadata": {},
   "outputs": [],
   "source": [
    "## Young couple\n",
    "def youngcouple(debug=False):\n",
    "    A = np.array([[ 1, 1, 1, 1, 0, 0, 0, 0, 1, 0, 0, 0, 0, 0],\n",
    "                  [ 0, 0, 0, 0, 1, 1, 1, 1, 0, 1, 0, 0, 0, 0],\n",
    "                  [ 1, 0, 0, 0, 1, 0, 0, 0, 0, 0, 1, 0, 0, 0],\n",
    "                  [ 0, 1, 0, 0, 0, 1, 0, 0, 0, 0, 0, 1, 0, 0],\n",
    "                  [ 0, 0, 1, 0, 0, 0, 1, 0, 0, 0, 0, 0, 1, 0],\n",
    "                  [ 0, 0, 0, 1, 0, 0, 0, 0, 0, 0, 0, 0, 0, 1]\n",
    "                 ])\n",
    "    b = np.array([2, 2, 1, 1, 1, 1])\n",
    "    C = np.array([4.5, 7.8, 3.6, 2.9, 4.9, 7.2, 4.3, 3.1, 100, 100, 100, 100, 100, 100])\n",
    "    IBV = np.array([8,9,10,11,12,13])\n",
    "    sol = simplexit(A,b,C,IBV,debug)\n",
    "    z= C[sol[0]].dot(sol[1])\n",
    "    return(z)"
   ]
  },
  {
   "cell_type": "code",
   "execution_count": 15,
   "metadata": {},
   "outputs": [
    {
     "name": "stdout",
     "output_type": "stream",
     "text": [
      " optimum found!\n",
      "IBV =  [ 2  5  4 11  6  3]\n",
      "Bbar=  [1. 1. 1. 0. 0. 1.]\n",
      "18.6\n"
     ]
    },
    {
     "name": "stderr",
     "output_type": "stream",
     "text": [
      "/Users/talboth/Library/Python/3.6/lib/python/site-packages/ipykernel_launcher.py:77: RuntimeWarning: divide by zero encountered in true_divide\n",
      "/Users/talboth/Library/Python/3.6/lib/python/site-packages/ipykernel_launcher.py:77: RuntimeWarning: invalid value encountered in true_divide\n"
     ]
    }
   ],
   "source": [
    "print(youngcouple())"
   ]
  },
  {
   "cell_type": "code",
   "execution_count": null,
   "metadata": {},
   "outputs": [],
   "source": [
    "## tighter problem formulation"
   ]
  }
 ],
 "metadata": {
  "kernelspec": {
   "display_name": "Python 3",
   "language": "python",
   "name": "python3"
  },
  "language_info": {
   "codemirror_mode": {
    "name": "ipython",
    "version": 3
   },
   "file_extension": ".py",
   "mimetype": "text/x-python",
   "name": "python",
   "nbconvert_exporter": "python",
   "pygments_lexer": "ipython3",
   "version": "3.7.2"
  },
  "latex_envs": {
   "LaTeX_envs_menu_present": true,
   "autoclose": false,
   "autocomplete": true,
   "bibliofile": "biblio.bib",
   "cite_by": "apalike",
   "current_citInitial": 1,
   "eqLabelWithNumbers": true,
   "eqNumInitial": 1,
   "hotkeys": {
    "equation": "Ctrl-E",
    "itemize": "Ctrl-I"
   },
   "labels_anchors": false,
   "latex_user_defs": false,
   "report_style_numbering": false,
   "user_envs_cfg": false
  }
 },
 "nbformat": 4,
 "nbformat_minor": 1
}
